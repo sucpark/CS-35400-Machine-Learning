{
 "cells": [
  {
   "cell_type": "code",
   "execution_count": 4,
   "metadata": {},
   "outputs": [],
   "source": [
    "import tensorflow as tf\n",
    "import matplotlib.pyplot as plt\n",
    "import numpy as np\n",
    "\n",
    "%matplotlib inline"
   ]
  },
  {
   "cell_type": "code",
   "execution_count": 5,
   "metadata": {},
   "outputs": [],
   "source": [
    "# Convert labels to one-hot vectors\n",
    "\n",
    "# Convert classes to indicator vectors\n",
    "def one_hot(values, n_values=10):\n",
    "    n_v = np.maximum(n_values,np.max(values) + 1)\n",
    "    oh=np.eye(n_v)[values]\n",
    "    return oh"
   ]
  },
  {
   "cell_type": "code",
   "execution_count": 6,
   "metadata": {},
   "outputs": [],
   "source": [
    "# Get Mnist data and split into train validation and test\n",
    "\n",
    "def get_mnist():\n",
    "    data=np.float64(np.load('MNIST.npy'))\n",
    "    labels=np.float32(np.load('MNIST_labels.npy'))\n",
    "    \n",
    "    data=np.float32(data)/255.\n",
    "    \n",
    "    train_dat=data[0:50000]\n",
    "    train_labels=one_hot(np.int32(labels[0:50000]))\n",
    "    \n",
    "    val_dat=data[50000:60000]\n",
    "    val_labels=one_hot(np.int32(labels[50000:60000]))\n",
    "    \n",
    "    test_dat=data[60000:70000]\n",
    "    test_labels=one_hot(np.int32(labels[60000:70000]))\n",
    "    \n",
    "    return (train_dat, train_labels), (val_dat, val_labels), (test_dat, test_labels)"
   ]
  },
  {
   "cell_type": "code",
   "execution_count": 7,
   "metadata": {},
   "outputs": [],
   "source": [
    "# Get transformed Mnist data\n",
    "\n",
    "def get_mnist_trans():\n",
    "    test_trans_dat=np.float32(np.load('MNIST_TEST_TRANS.npy'))\n",
    "    test_labels=one_hot(np.int32(np.float32(np.load('MNIST_labels.npy'))))\n",
    "    return (test_trans_dat, test_labels)"
   ]
  },
  {
   "cell_type": "code",
   "execution_count": 8,
   "metadata": {},
   "outputs": [],
   "source": [
    "# Convolution layer with relu\n",
    "\n",
    "def conv_relu_layer(input, filter_size=[3,3], num_features=[1]):\n",
    "\n",
    "    # Get number of input features from input and add to shape of new layer\n",
    "    shape=filter_size+[input.get_shape().as_list()[-1], num_features]\n",
    "    #[Filter size, color, Number of filter]\n",
    "    \n",
    "    W = tf.get_variable('W', shape=shape) # Default initialization is Glorot\n",
    "    b = tf.get_variable('b', shape=[num_features], initializer=tf.zeros_initializer) \n",
    "    \n",
    "    #padding same : same image size after convolution\n",
    "    conv = tf.nn.conv2d(input, W, strides=[1, 1, 1, 1], padding='SAME') \n",
    "    #(N, 28,28, 32)\n",
    "    relu = tf.nn.relu(conv + b)\n",
    "    return(relu)"
   ]
  },
  {
   "cell_type": "code",
   "execution_count": 9,
   "metadata": {},
   "outputs": [],
   "source": [
    "# Fully connected layer\n",
    "\n",
    "def fully_connected_layer(input,num_features):\n",
    "    # Make sure input is flattened.\n",
    "    flat_dim=np.int32(np.array(input.get_shape().as_list())[1:].prod())\n",
    "    input_flattened = tf.reshape(input, shape=[-1, flat_dim])\n",
    "    shape=[flat_dim, num_features]\n",
    "    \n",
    "    W_fc = tf.get_variable('W',shape=shape) \n",
    "    b_fc = tf.get_variable('b',shape=[num_features],initializer=tf.zeros_initializer)\n",
    "    \n",
    "    fc = tf.matmul(input_flattened, W_fc) + b_fc\n",
    "    return(fc)"
   ]
  },
  {
   "cell_type": "code",
   "execution_count": 21,
   "metadata": {},
   "outputs": [],
   "source": [
    "# The network\n",
    "\n",
    "def create_network():\n",
    "    pool_ksize=[1,2,2,1]\n",
    "    pool_strides=[1,2,2,1] # After pooling, size is not changed\n",
    "    \n",
    "    # The network:\n",
    "    with tf.variable_scope(\"conv1\"):\n",
    "            relu1 = conv_relu_layer(x_image, filter_size=[5, 5], num_features=32)\n",
    "            pool1 = tf.nn.max_pool(relu1, ksize=pool_ksize, strides=pool_strides, padding='SAME')\n",
    "    with tf.variable_scope(\"conv2\"):\n",
    "            relu2 = conv_relu_layer(pool1, filter_size=[5, 5],num_features=64)\n",
    "            pool2 = tf.nn.max_pool(relu2, ksize=pool_ksize, strides=pool_strides, padding='SAME')\n",
    "    with tf.variable_scope(\"conv3\"):\n",
    "            relu3 = conv_relu_layer(pool2, filter_size=[5, 5],num_features=64)\n",
    "            pool3 = tf.nn.max_pool(relu3, ksize=pool_ksize, strides=[1,1,1,1], padding='SAME')\n",
    "\n",
    "    with tf.variable_scope('dropout2'):\n",
    "            drop2=tf.nn.dropout(pool3, keep_prob)\n",
    "            \n",
    "    with tf.variable_scope(\"fc1\"):\n",
    "            fc1 = fully_connected_layer(drop2, num_features=256)\n",
    "            fc1r = tf.nn.relu(fc1)\n",
    "    with tf.variable_scope(\"fc2\"):\n",
    "            fc2 = fully_connected_layer(fc1r, num_features=10)\n",
    "\n",
    "    # Names (OUT, LOSS, ACC) below added to make it easier to use this tensor when restoring model\n",
    "    fc2 = tf.identity(fc2, name=\"OUT\")\n",
    "    \n",
    "    # The loss computation\n",
    "    with tf.variable_scope('cross_entropy_loss'):\n",
    "        cross_entropy = tf.reduce_mean(tf.nn.softmax_cross_entropy_with_logits_v2(labels=y_, logits=fc2), name=\"LOSS\")\n",
    "\n",
    "    # Accuracy computation\n",
    "    with tf.variable_scope('helpers'):\n",
    "        correct_prediction = tf.equal(tf.argmax(fc2, 1), tf.argmax(y_, 1))\n",
    "        accuracy = tf.reduce_mean(tf.cast(correct_prediction, tf.float32), name=\"ACC\")\n",
    "        \n",
    "    # We return the final functions (they contain all the information about the graph of the network)\n",
    "    return cross_entropy, accuracy, fc2"
   ]
  },
  {
   "cell_type": "code",
   "execution_count": 22,
   "metadata": {},
   "outputs": [],
   "source": [
    "# Get loss and accuracy on a data set with output from final layer fc2.\n",
    "\n",
    "# Function to get loss and accuracy from only one run of the feature extraction network\n",
    "from scipy.special import logsumexp\n",
    "\n",
    "def get_stats(data,labels):\n",
    "    t1=time.time()\n",
    "    lo=0.\n",
    "    acc=0.\n",
    "    delta=1000\n",
    "    rr=np.arange(0,data.shape[0],delta)\n",
    "    for i in rr:\n",
    "        fc2_out=fc2.eval(feed_dict={x: data[i:i+delta], y_:labels[i:i+delta]})\n",
    "        log_sf=logsumexp(fc2_out,axis=1).reshape((fc2_out.shape[0],1))-fc2_out\n",
    "        lo+=np.mean(np.sum(labels[i:i+delta]*log_sf, axis=1))\n",
    "        acc += np.mean(np.equal(np.argmax(fc2_out, axis=1),np.argmax(labels[i:i+delta], axis=1)))\n",
    "    acc=acc/np.float32(len(rr))\n",
    "    lo=lo/np.float32(len(rr))\n",
    "    #print('Get stats time:',round(time.time()-t1,2),'(s)')\n",
    "    # We return the final functions (they contain all the information about the graph of the network)\n",
    "    return lo, acc"
   ]
  },
  {
   "cell_type": "code",
   "execution_count": 23,
   "metadata": {},
   "outputs": [],
   "source": [
    "# Run one epoch\n",
    "# Run the iterations of one epoch\n",
    "\n",
    "def run_epoch(train,val,ii,batch_size,train_step_new):\n",
    "        t1=time.time()\n",
    "        # Randomly shuffle the training data\n",
    "        np.random.shuffle(ii)\n",
    "        tr=train[0][ii]\n",
    "        y=train[1][ii]\n",
    "        lo=0.\n",
    "        acc=0.\n",
    "        # Run disjoint batches on shuffled data\n",
    "        for j in np.arange(0,len(y),batch_size):\n",
    "            #if (np.mod(j,5000)==0):\n",
    "            #    print('Batch',j/batch_size)\n",
    "            batch=(tr[j:j+batch_size], y[j:j+batch_size])\n",
    "            train_step_new.run(feed_dict={x: batch[0], y_: batch[1], lr_: step_size,keep_prob_:keep_prob})\n",
    "        #print('Epoch time    :',round(time.time()-t1,2),'(s)')"
   ]
  },
  {
   "cell_type": "code",
   "execution_count": 24,
   "metadata": {},
   "outputs": [],
   "source": [
    "#Get the corresponding data\n",
    "\n",
    "def get_data(data_set):\n",
    "    if (data_set==\"cifar\"):\n",
    "        return(get_cifar())\n",
    "    elif (data_set==\"mnist\"):\n",
    "        return(get_mnist())\n",
    "    elif (data_set==\"mnist_transform\"):\n",
    "        return(get_mnist_trans())"
   ]
  },
  {
   "cell_type": "markdown",
   "metadata": {},
   "source": [
    "## Run this model "
   ]
  },
  {
   "cell_type": "code",
   "execution_count": 25,
   "metadata": {},
   "outputs": [
    {
     "name": "stdout",
     "output_type": "stream",
     "text": [
      "conv1/W:0 [5, 5, 1, 32] 0.049731787\n",
      "conv1/b:0 [32] 0.0\n",
      "conv2/W:0 [5, 5, 32, 64] 0.02887143\n",
      "conv2/b:0 [64] 0.0\n",
      "conv3/W:0 [5, 5, 64, 64] 0.024989638\n",
      "conv3/b:0 [64] 0.0\n",
      "fc1/W:0 [1024, 256] 0.03953602\n",
      "fc1/b:0 [256] 0.0\n",
      "fc2/W:0 [256, 10] 0.08652788\n",
      "fc2/b:0 [10] 0.0\n",
      "-------------------------------------------------------\n",
      "Epoch: 0 , Train loss     : 0.1104 , Accuracy: 0.9646\n",
      "Epoch: 0 , Validation loss: 0.094 , Accuracy: 0.9705\n",
      "Epoch: 1 , Train loss     : 0.0752 , Accuracy: 0.9758\n",
      "Epoch: 1 , Validation loss: 0.0684 , Accuracy: 0.9782\n",
      "Epoch: 2 , Train loss     : 0.0548 , Accuracy: 0.9829\n",
      "Epoch: 2 , Validation loss: 0.05 , Accuracy: 0.9834\n",
      "Epoch: 3 , Train loss     : 0.0453 , Accuracy: 0.9856\n",
      "Epoch: 3 , Validation loss: 0.0426 , Accuracy: 0.9863\n",
      "Epoch: 4 , Train loss     : 0.0325 , Accuracy: 0.9898\n",
      "Epoch: 4 , Validation loss: 0.038 , Accuracy: 0.9884\n",
      "-------------------------------------------------------\n",
      "Test accuracy : 0.9885\n",
      "Model saved in path: tmp/model\n"
     ]
    }
   ],
   "source": [
    "# Run the training\n",
    "\n",
    "import time\n",
    "\n",
    "batch_size=500\n",
    "step_size=.001\n",
    "num_epochs=5\n",
    "num_train=50000 \n",
    "minimizer=\"Adam\"\n",
    "model_name=\"model\"\n",
    "keep_prob=.5\n",
    "\n",
    "data_set=\"mnist\"; dim=28; nchannels=1\n",
    "\n",
    "TrainLoss=[]\n",
    "TrainAccu=[]\n",
    "ValLoss=[]\n",
    "ValAccu=[]\n",
    "\n",
    "tf.reset_default_graph()\n",
    "\n",
    "x = tf.placeholder(tf.float32, shape=[None, dim*dim*nchannels], name=\"x\") # (N X 784 )\n",
    "x_image = tf.reshape(x, [-1, dim, dim, nchannels]) #(N X (28 X 28 X 1))\n",
    "# Dimensions of x_image: [Batch size, Column size, Row size, Number of incoming channels]\n",
    "# The number of incoming channels will be 3 if the image is color: RGB (red, green, blue)\n",
    "# We will slide filter over this 2d picture with conv2d function.\n",
    "y_ = tf.placeholder(tf.float32, shape=[None,10],name=\"y\")   #Label, 0~9\n",
    "# Allows you to control the time step during the iterations\n",
    "lr_ = tf.placeholder(tf.float32, shape=[],name=\"learning_rate\")\n",
    "keep_prob_=tf.placeholder(tf.float32, shape=[],name=\"keep_prob\")\n",
    "\n",
    "with tf.Session() as sess:\n",
    "    train,val,test=get_data(data_set=data_set)\n",
    "    \n",
    "    # Create the network architecture with the above placeholdes as the inputs.\n",
    "    cross_entropy, accuracy, fc2 = create_network()\n",
    "\n",
    "    # Define the miminization method\n",
    "    if (minimizer==\"Adam\"):\n",
    "        train_step=tf.train.AdamOptimizer(learning_rate=lr_).minimize(cross_entropy)\n",
    "    elif (minimizer==\"SGD\"):\n",
    "        train_step = tf.train.GradientDescentOptimizer(learning_rate=lr_).minimize(cross_entropy)\n",
    "        \n",
    "    # Initialize variables\n",
    "    sess.run(tf.global_variables_initializer())\n",
    "    \n",
    "    # Show trainable variables\n",
    "    for v in tf.trainable_variables():\n",
    "        print(v.name, v.get_shape().as_list(), np.std(v.eval()))\n",
    "    ii=np.arange(0,num_train,1)\n",
    "    print(\"-------------------------------------------------------\")\n",
    "    \n",
    "    # Run epochs\n",
    "    for i in range(num_epochs):  # number of epochs\n",
    "        run_epoch(train,val,ii,batch_size,train_step)\n",
    "        lo,ac = get_stats(train[0][0:num_train],train[1][0:num_train])\n",
    "        TrainLoss.append(lo)\n",
    "        print('Epoch:',i,', Train loss     :',round(lo,4), ', Accuracy:',round(ac,4))\n",
    "        vlo,vac = get_stats(val[0],val[1])\n",
    "        ValLoss.append(vlo)\n",
    "        print('Epoch:',i,', Validation loss:',round(vlo,4),', Accuracy:',round(vac,4))\n",
    "            \n",
    "    # Test set accuracy\n",
    "    print(\"-------------------------------------------------------\")\n",
    "    print('Test accuracy : %g' % accuracy.eval(feed_dict={x: test[0], y_:test[1]}))\n",
    "    \n",
    "    # Save model\n",
    "    tf.add_to_collection(\"optimizer\", train_step)\n",
    "    saver = tf.train.Saver()\n",
    "    save_path = saver.save(sess, \"tmp/\"+ model_name)\n",
    "    print(\"Model saved in path: %s\" % save_path)"
   ]
  },
  {
   "cell_type": "markdown",
   "metadata": {},
   "source": [
    "## For each experiment, plot the error rate on training and validation "
   ]
  },
  {
   "cell_type": "code",
   "execution_count": 26,
   "metadata": {},
   "outputs": [
    {
     "data": {
      "text/plain": [
       "<matplotlib.legend.Legend at 0x182154ae10>"
      ]
     },
     "execution_count": 26,
     "metadata": {},
     "output_type": "execute_result"
    },
    {
     "data": {
      "image/png": "[encoded data removed]",
      "text/plain": [
       "<matplotlib.figure.Figure at 0x18208806d8>"
      ]
     },
     "metadata": {},
     "output_type": "display_data"
    }
   ],
   "source": [
    "Epoch=range(1,num_epochs+1)\n",
    "plt.plot(Epoch,TrainLoss)\n",
    "plt.plot(Epoch,ValLoss)\n",
    "plt.legend(['Training loss','Validation loss'], loc='upper right')"
   ]
  },
  {
   "cell_type": "markdown",
   "metadata": {},
   "source": [
    "## Show an image with the 32 5X5 filters in the first layer of the model"
   ]
  },
  {
   "cell_type": "code",
   "execution_count": 27,
   "metadata": {},
   "outputs": [
    {
     "name": "stdout",
     "output_type": "stream",
     "text": [
      "INFO:tensorflow:Restoring parameters from tmp/model\n"
     ]
    }
   ],
   "source": [
    "with tf.Session() as sess:\n",
    "    # Get data\n",
    "    train, val, test=get_data(data_set=data_set)\n",
    "    # Load model info\n",
    "    saver = tf.train.import_meta_graph('tmp/'+model_name+'.meta')\n",
    "    saver.restore(sess,'tmp/'+model_name) \n",
    "    graph = tf.get_default_graph()\n",
    "    \n",
    "    # Setup the placeholders from the stored model.\n",
    "    x = graph.get_tensor_by_name('x:0')\n",
    "    y_= graph.get_tensor_by_name('y:0')\n",
    "    lr_ = graph.get_tensor_by_name('learning_rate:0')\n",
    "    keep_prob_ = graph.get_tensor_by_name('keep_prob:0')\n",
    "    accuracy = graph.get_tensor_by_name('helpers/ACC:0')\n",
    "    cross_entropy = graph.get_tensor_by_name('cross_entropy_loss/LOSS:0')\n",
    "    fc2 = graph.get_tensor_by_name('OUT:0')\n",
    "    \n",
    "    ConV1Weight=graph.get_collection('trainable_variables')[0].eval()"
   ]
  },
  {
   "cell_type": "code",
   "execution_count": 28,
   "metadata": {},
   "outputs": [
    {
     "data": {
      "text/plain": [
       "(5, 5, 1, 32)"
      ]
     },
     "execution_count": 28,
     "metadata": {},
     "output_type": "execute_result"
    }
   ],
   "source": [
    "ConV1Weight.shape"
   ]
  },
  {
   "cell_type": "code",
   "execution_count": 29,
   "metadata": {},
   "outputs": [
    {
     "data": {
      "image/png": "[encoded data removed]",
      "text/plain": [
       "<matplotlib.figure.Figure at 0x10d398198>"
      ]
     },
     "metadata": {},
     "output_type": "display_data"
    }
   ],
   "source": [
    "nrows = 2; ncols=16; \n",
    "plt.figure(figsize = (ncols*2, nrows*2))\n",
    "for i in range(nrows*ncols):\n",
    "    plt.subplot(nrows, ncols, i+1)\n",
    "    plt.imshow(ConV1Weight[:,:,0,i].reshape(5,5), cmap='gray')\n",
    "plt.axis('off')\n",
    "plt.show()"
   ]
  },
  {
   "cell_type": "markdown",
   "metadata": {},
   "source": [
    "# Transformed MNIST dataset"
   ]
  },
  {
   "cell_type": "markdown",
   "metadata": {},
   "source": [
    "## Display a few of these examples alongside the original digits "
   ]
  },
  {
   "cell_type": "code",
   "execution_count": 30,
   "metadata": {},
   "outputs": [
    {
     "data": {
      "image/png": "[encoded data removed]",
      "text/plain": [
       "<matplotlib.figure.Figure at 0x18244207b8>"
      ]
     },
     "metadata": {},
     "output_type": "display_data"
    },
    {
     "data": {
      "image/png": "[encoded data removed]",
      "text/plain": [
       "<matplotlib.figure.Figure at 0x182355b320>"
      ]
     },
     "metadata": {},
     "output_type": "display_data"
    }
   ],
   "source": [
    "t,v,te = get_data(data_set=\"mnist\")\n",
    "nrows = 1; ncols=10; \n",
    "plt.figure(figsize = (ncols*2, nrows*2))\n",
    "plt.suptitle('Original MNIST data',fontsize=12)\n",
    "for i in range(nrows*ncols):\n",
    "    plt.subplot(nrows, ncols, i+1)\n",
    "    plt.imshow(t[0][i,:].reshape(28,28), cmap='gray')\n",
    "    plt.axis('off')\n",
    "plt.show()\n",
    "\n",
    "temp=get_mnist_trans()\n",
    "plt.figure(figsize = (ncols*2, nrows*2))\n",
    "plt.suptitle('Transformed MNIST data',fontsize=12)\n",
    "for i in range(nrows*ncols):  \n",
    "    plt.subplot(nrows, ncols, i+1)\n",
    "    plt.imshow(temp[0][i,:].reshape(28,28), cmap='gray')\n",
    "    plt.axis('off')\n",
    "plt.show()"
   ]
  },
  {
   "cell_type": "markdown",
   "metadata": {},
   "source": [
    "## Using the original architecture to test the transformed data "
   ]
  },
  {
   "cell_type": "code",
   "execution_count": 31,
   "metadata": {},
   "outputs": [
    {
     "name": "stdout",
     "output_type": "stream",
     "text": [
      "INFO:tensorflow:Restoring parameters from tmp/model\n",
      "Test accuracy : 0.6577\n"
     ]
    }
   ],
   "source": [
    "model_name=\"model\"\n",
    "with tf.Session() as sess:\n",
    "    # Get data\n",
    "    t1, t2 = get_data(\"mnist_transform\")\n",
    "    # Load model info\n",
    "    saver = tf.train.import_meta_graph('tmp/'+model_name+'.meta')\n",
    "    saver.restore(sess,'tmp/'+model_name) \n",
    "    graph = tf.get_default_graph()\n",
    "    # Setup the placeholders from the stored model.\n",
    "    x = graph.get_tensor_by_name('x:0')\n",
    "    y_= graph.get_tensor_by_name('y:0')\n",
    "    lr_ = graph.get_tensor_by_name('learning_rate:0')\n",
    "    keep_prob_ = graph.get_tensor_by_name('keep_prob:0')\n",
    "    accuracy=graph.get_tensor_by_name('helpers/ACC:0')\n",
    "    cross_entropy=graph.get_tensor_by_name('cross_entropy_loss/LOSS:0')\n",
    "    fc2=graph.get_tensor_by_name('OUT:0')\n",
    "    \n",
    "    print('Test accuracy : %g' % accuracy.eval(feed_dict={x: t1[60000:70000], y_:t2[60000:70000]}))"
   ]
  },
  {
   "cell_type": "markdown",
   "metadata": {},
   "source": [
    "To compare with the transformed data accuracy with the original data accuracy, I use the transformed data corresponding to the test data set in the original data. We can see that the accuracy of transformed data drops dramatically."
   ]
  }
 ],
 "metadata": {
  "kernelspec": {
   "display_name": "Python 3",
   "language": "python",
   "name": "python3"
  },
  "language_info": {
   "codemirror_mode": {
    "name": "ipython",
    "version": 3
   },
   "file_extension": ".py",
   "mimetype": "text/x-python",
   "name": "python",
   "nbconvert_exporter": "python",
   "pygments_lexer": "ipython3",
   "version": "3.6.4"
  }
 },
 "nbformat": 4,
 "nbformat_minor": 2
}
