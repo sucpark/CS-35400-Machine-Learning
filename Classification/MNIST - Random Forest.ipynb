{
 "cells": [
  {
   "cell_type": "code",
   "execution_count": 13,
   "metadata": {},
   "outputs": [],
   "source": [
    "import numpy as np\n",
    "import time\n",
    "import matplotlib.pyplot as plt\n",
    "from sklearn.ensemble import RandomForestClassifier, AdaBoostClassifier\n",
    "%matplotlib inline"
   ]
  },
  {
   "cell_type": "code",
   "execution_count": 14,
   "metadata": {},
   "outputs": [
    {
     "name": "stdout",
     "output_type": "stream",
     "text": [
      "(70000, 784)\n"
     ]
    }
   ],
   "source": [
    "data=np.float64(np.load('MNIST.npy'))\n",
    "labels=np.float32(np.load('MNIST_labels.npy'))\n",
    "n=len(data)\n",
    "p=len(data[0])\n",
    "for i in range(0,n):\n",
    "    data[i]=data[i]/255 # The value lie in [0,1]\n",
    "print (data.shape)"
   ]
  },
  {
   "cell_type": "code",
   "execution_count": 15,
   "metadata": {},
   "outputs": [],
   "source": [
    "# Get Mnist data and split into train validation and test\n",
    "def get_mnist():\n",
    "\n",
    "    data=np.float64(np.load('MNIST.npy'))\n",
    "    labels=np.float32(np.load('MNIST_labels.npy'))\n",
    "    #print(data.shape)\n",
    "    \n",
    "    data=np.float32(data)/255.\n",
    "    \n",
    "    train_dat=data[0:50000]\n",
    "    train_labels=labels[0:50000]\n",
    "    \n",
    "    val_dat=data[50000:60000]\n",
    "    val_labels=labels[50000:60000]\n",
    "    \n",
    "    test_dat=data[60000:70000]\n",
    "    test_labels=labels[60000:70000]\n",
    "    \n",
    "    return (train_dat, train_labels), (val_dat, val_labels), (test_dat, test_labels)"
   ]
  },
  {
   "cell_type": "code",
   "execution_count": 16,
   "metadata": {},
   "outputs": [],
   "source": [
    "(Train,TrainLabel),(Val,ValLabel),(Test,TestLabel)=get_mnist()"
   ]
  },
  {
   "cell_type": "markdown",
   "metadata": {},
   "source": [
    "## Random Forest Classifier"
   ]
  },
  {
   "cell_type": "code",
   "execution_count": 19,
   "metadata": {},
   "outputs": [],
   "source": [
    "def RandomForestWithN(nTrees,t=False):\n",
    "    clf=RandomForestClassifier(n_estimators=nTrees,min_samples_split=2,max_features=100,criterion=\"entropy\")\n",
    "    start_time = time.time()\n",
    "    clf.fit(Train,TrainLabel)\n",
    "    end_time = time.time()\n",
    "    tt=end_time-start_time\n",
    "    if(t==False):\n",
    "        temp=clf.predict(Train)\n",
    "        Error1=sum(temp!=TrainLabel)/len(temp)\n",
    "\n",
    "        temp=clf.predict(Val)\n",
    "        Error2=sum(temp!=ValLabel)/len(temp)\n",
    "\n",
    "        return(Error1,Error2,tt)\n",
    "    else:\n",
    "        temp=clf.predict(Test)\n",
    "        Error=sum(temp!=TestLabel)/len(temp)\n",
    "        return(Error)        "
   ]
  },
  {
   "cell_type": "code",
   "execution_count": 20,
   "metadata": {},
   "outputs": [],
   "source": [
    "ErrorTrain=[]\n",
    "ErrorVal=[]\n",
    "MaxTree=20\n",
    "NumTrees=list(range(1,MaxTree+1))\n",
    "for i in NumTrees:\n",
    "    e1,e2,t=RandomForestWithN(i)\n",
    "    ErrorTrain.append(e1)\n",
    "    ErrorVal.append(e2)"
   ]
  },
  {
   "cell_type": "code",
   "execution_count": 22,
   "metadata": {},
   "outputs": [
    {
     "name": "stdout",
     "output_type": "stream",
     "text": [
      "[0.05644, 0.05588, 0.01776, 0.01026, 0.00612, 0.00392, 0.00238, 0.00194, 0.00128, 0.00078, 0.00054, 0.00046, 0.00058, 0.0004, 0.00022, 0.0004, 0.00028, 0.00022, 0.00014, 0.00018]\n",
      "[0.1493, 0.1527, 0.0969, 0.0798, 0.0708, 0.0622, 0.0587, 0.0528, 0.0512, 0.0483, 0.0466, 0.047, 0.0448, 0.0429, 0.0427, 0.0431, 0.0418, 0.0411, 0.0388, 0.0418]\n",
      "The number of trees with minimum validation error is  19\n"
     ]
    }
   ],
   "source": [
    "print(ErrorTrain)\n",
    "print(ErrorVal)\n",
    "MinimumErrorTree=np.array(ErrorVal).argmin()+1\n",
    "print(\"The number of trees with minimum validation error is \",MinimumErrorTree)"
   ]
  },
  {
   "cell_type": "code",
   "execution_count": 23,
   "metadata": {},
   "outputs": [
    {
     "data": {
      "text/plain": [
       "<matplotlib.legend.Legend at 0x1a43de1a58>"
      ]
     },
     "execution_count": 23,
     "metadata": {},
     "output_type": "execute_result"
    },
    {
     "data": {
      "image/png": "[encoded data removed]",
      "text/plain": [
       "<matplotlib.figure.Figure at 0x1a4b1c0780>"
      ]
     },
     "metadata": {},
     "output_type": "display_data"
    }
   ],
   "source": [
    "plt.plot(NumTrees,ErrorTrain)\n",
    "plt.plot(NumTrees,ErrorVal)\n",
    "plt.legend(['Training loss','Validation loss'], loc='upper right')"
   ]
  },
  {
   "cell_type": "markdown",
   "metadata": {},
   "source": [
    "For the number of trees between 1 and 20, the validation error rate is minimum when the number is 19.\n",
    "\n",
    "Thus, I will use the number of trees as 19 for the following problems"
   ]
  },
  {
   "cell_type": "code",
   "execution_count": 25,
   "metadata": {},
   "outputs": [
    {
     "name": "stdout",
     "output_type": "stream",
     "text": [
      "The training time is about 18.1526\n",
      "The training   error rate is  0.0001\n",
      "The validation error rate is  0.039\n",
      "The test       error rate is  0.035\n"
     ]
    }
   ],
   "source": [
    "e1,e2,t=RandomForestWithN(MinimumErrorTree)\n",
    "print(\"The training time is about\",round(t,4))\n",
    "e3=RandomForestWithN(MinimumErrorTree,t=True)\n",
    "print(\"The training   error rate is \",round(e1,4))\n",
    "print(\"The validation error rate is \",round(e2,4))\n",
    "print(\"The test       error rate is \",round(e3,4))"
   ]
  },
  {
   "cell_type": "code",
   "execution_count": null,
   "metadata": {},
   "outputs": [],
   "source": []
  }
 ],
 "metadata": {
  "kernelspec": {
   "display_name": "Python 3",
   "language": "python",
   "name": "python3"
  },
  "language_info": {
   "codemirror_mode": {
    "name": "ipython",
    "version": 3
   },
   "file_extension": ".py",
   "mimetype": "text/x-python",
   "name": "python",
   "nbconvert_exporter": "python",
   "pygments_lexer": "ipython3",
   "version": "3.6.4"
  }
 },
 "nbformat": 4,
 "nbformat_minor": 2
}
