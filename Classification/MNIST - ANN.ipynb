{
 "cells": [
  {
   "cell_type": "code",
   "execution_count": 2,
   "metadata": {},
   "outputs": [],
   "source": [
    "import numpy as np\n",
    "import matplotlib.pyplot as plt"
   ]
  },
  {
   "cell_type": "code",
   "execution_count": 3,
   "metadata": {},
   "outputs": [],
   "source": [
    "def sigmoid(x):\n",
    "    return 1 / (1 + np.exp(-x))\n",
    "\n",
    "vsigmoid = np.vectorize(sigmoid)"
   ]
  },
  {
   "cell_type": "code",
   "execution_count": 4,
   "metadata": {},
   "outputs": [],
   "source": [
    "def sigmoid_descent(y):\n",
    "    return sigmoid(y) * (1.0 - sigmoid(y))\n",
    "\n",
    "dsigmoid = np.vectorize(sigmoid_descent)"
   ]
  },
  {
   "cell_type": "code",
   "execution_count": 5,
   "metadata": {},
   "outputs": [],
   "source": [
    "class NeuralNetwork(object):\n",
    "    def __init__(self, data, hidden, output):\n",
    "        \n",
    "        self.xx = data\n",
    "        self.hh = hidden\n",
    "        self.o = output\n",
    "        self.b = 1\n",
    "        self.loss = []\n",
    "        \n",
    "        # Create weight randomly\n",
    "        self.w1 = np.random.randn(self.hh, self.xx)  # [64, 784]\n",
    "        self.b1 = np.random.randn(self.hh)           # [64, 1]\n",
    "        self.w2 = np.random.randn(self.o, self.hh)   # [10, 64]\n",
    "        self.b2 = np.random.randn(self.o)            # [10, 1]\n",
    "        \n",
    "        # Create arrays to store changes\n",
    "        self.w1c = np.zeros((self.hh, self.xx))\n",
    "        self.b1c = np.zeros(self.hh)\n",
    "        self.w2c = np.zeros((self.o, self.hh))\n",
    "        self.b2c = np.zeros(self.o)\n",
    "        \n",
    "    def feed_forward(self, inputs):\n",
    "        if len(inputs) == self.xx:\n",
    "            self.x = np.array(inputs)\n",
    "            self.z1 = np.dot(self.w1, self.x) + self.b1                            # z1 = w1*x + b1\n",
    "            self.h  = vsigmoid(self.z1)                                            # h = sigmoid(z1)\n",
    "            self.z2 = np.dot(self.w2, self.h) + self.b2                            # z2 = w2*h + b2\n",
    "            self.yh = vsigmoid(self.z2)                                            # yh = sigmoid(z2)\n",
    "        else:\n",
    "            print(\"Dim of input is wrong\")\n",
    "        \n",
    "    def back_prop(self, labels, rate):\n",
    "        self.loss.append(sum((self.yh - labels)**2))\n",
    "\n",
    "        self.dyh = 2*(self.yh - labels)                                            # dL/dyh = 2(yh - y)         [10, 1]\n",
    "        self.dz2 = np.multiply(self.dyh, np.multiply(self.yh, 1-self.yh))          # dL/dz2 = (dL/dyh)(dyh/dz2) [64, 1]\n",
    "        self.dw2 = np.dot(self.dz2.reshape(self.o,1), self.h.reshape(self.hh,1).T) # dL/dw2 = (dL/dz2)(dz2/dw2) [10, 64]\n",
    "        self.db2 = self.dz2                                                        # dL/db2 = (dL/dz2)(dz2/db2) [10, 1]\n",
    "        self.dh  = np.dot(self.w2.T, self.dz2)                                     # dL/dh  = (dL/dz2)(dz2/dh)  [64, 1]\n",
    "        self.dz1 = np.multiply(self.dh, dsigmoid(self.z1))                         # dL/dz1 = (dL/dh)(dh/dz1)   [64, 1]\n",
    "        self.dw1 = np.dot(self.dz1.reshape(self.hh,1), self.x.reshape(self.xx,1).T)# dL/dw1 = (dL/dz1)(dz1/dh)  [64, 784]\n",
    "        self.db1 = self.dz1                                                        # dL/db1 = (dL/dz1)(dz1/db1) [784, 1]\n",
    "\n",
    "        self.w1 -= rate*self.dw1\n",
    "        self.b1 -= rate*self.db1\n",
    "        self.w2 -= rate*self.dw2\n",
    "        self.b2 -= rate*self.db2"
   ]
  },
  {
   "cell_type": "markdown",
   "metadata": {},
   "source": [
    "## Load Data "
   ]
  },
  {
   "cell_type": "code",
   "execution_count": 6,
   "metadata": {},
   "outputs": [
    {
     "name": "stdout",
     "output_type": "stream",
     "text": [
      "(70000, 784)\n"
     ]
    }
   ],
   "source": [
    "data=np.float64(np.load('MNIST.npy'))\n",
    "labels=np.float32(np.load('MNIST_labels.npy'))\n",
    "n=len(data)\n",
    "p=len(data[0])\n",
    "for i in range(0,n):\n",
    "    data[i]=data[i]/255      # The value lie in [0,1]\n",
    "print (data.shape)"
   ]
  },
  {
   "cell_type": "code",
   "execution_count": 7,
   "metadata": {},
   "outputs": [],
   "source": [
    "# Divide the data into Training, Develop and Test\n",
    "\n",
    "Train=[]\n",
    "Test=[]\n",
    "TrainLabel=[]\n",
    "TestLabel=[]\n",
    "\n",
    "for i in range(0,n):\n",
    "    rn=np.random.choice(range(1,11),1)[0]\n",
    "    if rn <= 8:\n",
    "        Train.append(data[i])\n",
    "        temp = np.insert(np.zeros(9),int(labels[i]),1)\n",
    "        TrainLabel.append(temp)\n",
    "    else:\n",
    "        Test.append(data[i])\n",
    "        TestLabel.append(labels[i])"
   ]
  },
  {
   "cell_type": "code",
   "execution_count": 8,
   "metadata": {},
   "outputs": [
    {
     "name": "stdout",
     "output_type": "stream",
     "text": [
      "The number of data in Training :  56128 ( 80.18 )%\n",
      "The number of data in Test     :  13872 ( 19.82 )%\n"
     ]
    }
   ],
   "source": [
    "a=len(Train)\n",
    "c=len(Test)\n",
    "\n",
    "print(\"The number of data in Training : \",a,\"(\",round(a/n*100,2),\")%\")\n",
    "print(\"The number of data in Test     : \",c,\"(\",round(c/n*100,2),\")%\")"
   ]
  },
  {
   "cell_type": "markdown",
   "metadata": {},
   "source": [
    "## Train the NN "
   ]
  },
  {
   "cell_type": "code",
   "execution_count": 16,
   "metadata": {},
   "outputs": [],
   "source": [
    "epochs = 1\n",
    "learning = 0.001\n",
    "hidden_no = 128\n",
    "\n",
    "NN1 = NeuralNetwork(data.shape[1], hidden_no, 10)\n",
    "\n",
    "for i in range(epochs):\n",
    "    #print(\"Epoch\",i, \"...\")\n",
    "    for i in range(len(Train)):              # Stochastic Gradient Descent\n",
    "        NN1.feed_forward(Train[i])\n",
    "        NN1.back_prop(TrainLabel[i],learning)"
   ]
  },
  {
   "cell_type": "markdown",
   "metadata": {},
   "source": [
    "## Result"
   ]
  },
  {
   "cell_type": "code",
   "execution_count": 17,
   "metadata": {},
   "outputs": [],
   "source": [
    "Pred = []\n",
    "\n",
    "for i in range(len(Test)):\n",
    "    NN1.feed_forward(Test[i])\n",
    "    Pred.append(np.argmax(NN1.yh))"
   ]
  },
  {
   "cell_type": "code",
   "execution_count": 18,
   "metadata": {},
   "outputs": [
    {
     "data": {
      "text/plain": [
       "Text(0.5,1,'Loss per update')"
      ]
     },
     "execution_count": 18,
     "metadata": {},
     "output_type": "execute_result"
    },
    {
     "data": {
      "image/png": "[encoded data removed]",
      "text/plain": [
       "<matplotlib.figure.Figure at 0x13286ca20>"
      ]
     },
     "metadata": {},
     "output_type": "display_data"
    }
   ],
   "source": [
    "plt.plot(NN1.loss)\n",
    "plt.xlabel('Update')\n",
    "plt.ylabel('Loss')\n",
    "plt.title('Loss per update')"
   ]
  },
  {
   "cell_type": "code",
   "execution_count": 19,
   "metadata": {},
   "outputs": [
    {
     "name": "stdout",
     "output_type": "stream",
     "text": [
      "0.08657727797001154\n"
     ]
    }
   ],
   "source": [
    "Error = 0.0\n",
    "for i in range(len(Test)):\n",
    "    if TestLabel[i]==Pred[i]:\n",
    "        Error += 1\n",
    "print(Error/len(Test))"
   ]
  },
  {
   "cell_type": "markdown",
   "metadata": {},
   "source": [
    "Error rate is about 8.6%. "
   ]
  }
 ],
 "metadata": {
  "kernelspec": {
   "display_name": "Python 3",
   "language": "python",
   "name": "python3"
  },
  "language_info": {
   "codemirror_mode": {
    "name": "ipython",
    "version": 3
   },
   "file_extension": ".py",
   "mimetype": "text/x-python",
   "name": "python",
   "nbconvert_exporter": "python",
   "pygments_lexer": "ipython3",
   "version": "3.6.4"
  }
 },
 "nbformat": 4,
 "nbformat_minor": 2
}
