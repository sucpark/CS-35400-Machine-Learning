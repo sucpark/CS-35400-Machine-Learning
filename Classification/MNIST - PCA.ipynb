{
 "cells": [
  {
   "cell_type": "code",
   "execution_count": null,
   "metadata": {},
   "outputs": [],
   "source": [
    "import numpy as np\n",
    "import matplotlib.pyplot as plt\n",
    "%matplotlib inline"
   ]
  },
  {
   "cell_type": "code",
   "execution_count": null,
   "metadata": {},
   "outputs": [],
   "source": [
    "data=np.float64(np.load('MNIST.npy'))\n",
    "labels=np.float32(np.load('MNIST_labels.npy'))\n",
    "n=len(data)\n",
    "p=len(data[0])\n",
    "for i in range(0,n):\n",
    "    data[i]=data[i]/255 # The value lie in [0,1]\n",
    "print (data.shape)"
   ]
  },
  {
   "cell_type": "code",
   "execution_count": null,
   "metadata": {},
   "outputs": [],
   "source": [
    "#Divide the data into Training, Develop and Test\n",
    "Training=[]\n",
    "Develop=[]\n",
    "Test=[]\n",
    "TrainLabe1=[]\n",
    "DevelopLabel=[]\n",
    "TestLabel=[]\n",
    "\n",
    "for i in range(0,n):\n",
    "    rn=np.random.choice(range(1,11),1)[0]\n",
    "    if rn <= 6:\n",
    "        Training.append(data[i])\n",
    "        TrainLabe1.append(labels[i])\n",
    "    elif rn > 8:\n",
    "        Develop.append(data[i])\n",
    "        DevelopLabel.append(labels[i])\n",
    "    else:\n",
    "        Test.append(data[i])\n",
    "        TestLabel.append(labels[i])"
   ]
  },
  {
   "cell_type": "code",
   "execution_count": null,
   "metadata": {},
   "outputs": [],
   "source": [
    "a=len(Training)\n",
    "b=len(Develop)\n",
    "c=len(Test)\n",
    "\n",
    "print(\"The number of data in Training : \",a,\"(\",round(a/n*100,2),\")%\")\n",
    "print(\"The number of data in Develop  : \",b,\"(\",round(b/n*100,2),\")%\")\n",
    "print(\"The number of data in Test     : \",c,\"(\",round(c/n*100,2),\")%\")"
   ]
  },
  {
   "cell_type": "code",
   "execution_count": null,
   "metadata": {},
   "outputs": [],
   "source": [
    "nc=10 #The number of principal component\n",
    "\n",
    "#We train the model by using training data. If the data changes, then below also changes.\n",
    "X=np.array(Training).T    \n",
    "sigma=np.cov(X)\n",
    "\n",
    "#Eigen Decomposition\n",
    "[w, V] = np.linalg.eigh(sigma)"
   ]
  },
  {
   "cell_type": "code",
   "execution_count": null,
   "metadata": {},
   "outputs": [],
   "source": [
    "def NewData(data,k):\n",
    "    NewData=[]\n",
    "    EigenVectors = V[:,range(-1,-k-1,-1)]\n",
    "    \n",
    "    for i in range(0,len(data)):\n",
    "        temp=[]\n",
    "        for j in range(0,k):\n",
    "            temp.append(np.dot(EigenVectors.T[j],data[i]))\n",
    "        NewData.append(temp)\n",
    "    return(NewData)"
   ]
  },
  {
   "cell_type": "code",
   "execution_count": null,
   "metadata": {},
   "outputs": [],
   "source": [
    "def PCA_Classification(k,train,trainlabel,test,testlabel):\n",
    "    lg=LogisticRegression(fit_intercept=True, C=100000,\\\n",
    "                         multi_class='multinomial',solver='lbfgs')\n",
    "    newTrain=NewData(train,k) #PCA scores\n",
    "    newTest=NewData(test,k)\n",
    "    logreg=lg.fit(newTrain,trainlabel)\n",
    "    \n",
    "    return(ErrorRate(logreg,newTest,testlabel))"
   ]
  },
  {
   "cell_type": "code",
   "execution_count": null,
   "metadata": {},
   "outputs": [],
   "source": [
    "ER_PCA_D=PCA_Classification(10,Training,TrainLabe1,Develop,DevelopLabel)\n",
    "print(\"Error rate on develop set with 10 PC's is \",round(ER_PCA_D,4))"
   ]
  },
  {
   "cell_type": "code",
   "execution_count": null,
   "metadata": {},
   "outputs": [],
   "source": []
  }
 ],
 "metadata": {
  "kernelspec": {
   "display_name": "Python 3",
   "language": "python",
   "name": "python3"
  },
  "language_info": {
   "codemirror_mode": {
    "name": "ipython",
    "version": 3
   },
   "file_extension": ".py",
   "mimetype": "text/x-python",
   "name": "python",
   "nbconvert_exporter": "python",
   "pygments_lexer": "ipython3",
   "version": "3.6.4"
  }
 },
 "nbformat": 4,
 "nbformat_minor": 2
}
