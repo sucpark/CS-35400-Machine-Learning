{
 "cells": [
  {
   "cell_type": "code",
   "execution_count": 2,
   "metadata": {
    "collapsed": true
   },
   "outputs": [],
   "source": [
    "import numpy as np\n",
    "import matplotlib.pyplot as plt\n",
    "%matplotlib inline"
   ]
  },
  {
   "cell_type": "code",
   "execution_count": 3,
   "metadata": {},
   "outputs": [
    {
     "name": "stdout",
     "output_type": "stream",
     "text": [
      "(70000, 784)\n"
     ]
    }
   ],
   "source": [
    "data=np.float64(np.load('MNIST.npy'))\n",
    "labels=np.float32(np.load('MNIST_labels.npy'))\n",
    "n=len(data)\n",
    "p=len(data[0])\n",
    "for i in range(0,n):\n",
    "    data[i]=data[i]/255 # The value lie in [0,1]\n",
    "print (data.shape)"
   ]
  },
  {
   "cell_type": "code",
   "execution_count": 4,
   "metadata": {
    "collapsed": true
   },
   "outputs": [],
   "source": [
    "#Divide the data into Training, Develop and Test\n",
    "Training=[]\n",
    "Develop=[]\n",
    "Test=[]\n",
    "TrainLabe1=[]\n",
    "DevelopLabel=[]\n",
    "TestLabel=[]\n",
    "\n",
    "for i in range(0,n):\n",
    "    rn=np.random.choice(range(1,11),1)[0]\n",
    "    if rn <= 6:\n",
    "        Training.append(data[i])\n",
    "        TrainLabe1.append(labels[i])\n",
    "    elif rn > 8:\n",
    "        Develop.append(data[i])\n",
    "        DevelopLabel.append(labels[i])\n",
    "    else:\n",
    "        Test.append(data[i])\n",
    "        TestLabel.append(labels[i])"
   ]
  },
  {
   "cell_type": "code",
   "execution_count": 5,
   "metadata": {},
   "outputs": [
    {
     "name": "stdout",
     "output_type": "stream",
     "text": [
      "The number of data in Training :  42101 ( 60.14 )%\n",
      "The number of data in Develop  :  13879 ( 19.83 )%\n",
      "The number of data in Test     :  14020 ( 20.03 )%\n"
     ]
    }
   ],
   "source": [
    "a=len(Training)\n",
    "b=len(Develop)\n",
    "c=len(Test)\n",
    "\n",
    "print(\"The number of data in Training : \",a,\"(\",round(a/n*100,2),\")%\")\n",
    "print(\"The number of data in Develop  : \",b,\"(\",round(b/n*100,2),\")%\")\n",
    "print(\"The number of data in Test     : \",c,\"(\",round(c/n*100,2),\")%\")"
   ]
  },
  {
   "cell_type": "markdown",
   "metadata": {},
   "source": [
    "## Part 3: Spectral clustering"
   ]
  },
  {
   "cell_type": "code",
   "execution_count": 53,
   "metadata": {
    "collapsed": true
   },
   "outputs": [],
   "source": [
    "from scipy.spatial import distance\n",
    "from numpy.linalg import inv"
   ]
  },
  {
   "cell_type": "code",
   "execution_count": 110,
   "metadata": {
    "collapsed": true
   },
   "outputs": [],
   "source": [
    "n=len(Training)\n",
    "\n",
    "sn=1000   #The number of sample\n",
    "SmallTrainIndex=np.random.randint(0,n,sn)  #Random sample from Training dataset.\n",
    "SmallTrain=[]\n",
    "SmallTrainLabel=[]\n",
    "\n",
    "for i in SmallTrainIndex:\n",
    "    SmallTrain.append(Training[i])\n",
    "    SmallTrainLabel.append(TrainLabe1[i])"
   ]
  },
  {
   "cell_type": "code",
   "execution_count": 111,
   "metadata": {},
   "outputs": [
    {
     "name": "stdout",
     "output_type": "stream",
     "text": [
      "The number of 0 is  114\n",
      "The number of 1 is  115\n",
      "The number of 2 is  116\n",
      "The number of 3 is  117\n",
      "The number of 4 is  118\n",
      "The number of 5 is  119\n",
      "The number of 6 is  120\n",
      "The number of 7 is  121\n",
      "The number of 8 is  122\n",
      "The number of 9 is  123\n"
     ]
    }
   ],
   "source": [
    "for j in range(0,10):    \n",
    "    cnt=j\n",
    "    for i in range(0,len(SmallTrain)):\n",
    "        if SmallTrainLabel[i]==1:\n",
    "            cnt+=1\n",
    "    print(\"The number of %d is \"%j,cnt)"
   ]
  },
  {
   "cell_type": "markdown",
   "metadata": {},
   "source": [
    "We can find that the small random samples are distributed well."
   ]
  },
  {
   "cell_type": "code",
   "execution_count": 112,
   "metadata": {
    "collapsed": true
   },
   "outputs": [],
   "source": [
    "#Affinity Matrix. It takes too much time.\n",
    "AM=np.zeros(shape = (sn,sn))\n",
    "h=30 #Bandwidth\n",
    "\n",
    "for i in range(0,sn):\n",
    "    for j in range(i,sn):\n",
    "        x1=SmallTrain[i]\n",
    "        x2=SmallTrain[j]\n",
    "        \n",
    "        AM[i,j]=np.exp(-distance.euclidean(x1,x2)**2/h)\n",
    "        AM[j,i] = AM[i,j]"
   ]
  },
  {
   "cell_type": "markdown",
   "metadata": {},
   "source": [
    "L   =   I  -  $\\tilde{W}$   =   I  -  $D^{-{1 \\over 2}}$W$D^{-{1 \\over 2}}$\n",
    "\n",
    "where D is the diagonal matrix $D_{ii}=\\sum_{j}W_{ij}$"
   ]
  },
  {
   "cell_type": "code",
   "execution_count": 113,
   "metadata": {
    "collapsed": true
   },
   "outputs": [],
   "source": [
    "D_square=np.zeros(shape = (sn,sn))  #D^(1/2)\n",
    "for i in range(0,sn):\n",
    "    D_square[i,i]=np.sqrt(sum(AM[i]))\n",
    "D_squareInv=inv(D_square)  #D^(1/2)^(-1)\n",
    "\n",
    "#Find L\n",
    "\n",
    "tW=np.dot(np.dot(D_square,AM),D_square)  #tilde(W) = D^(-1/2)WD^(1/2)\n",
    "L=np.eye(sn)-tW  #I-tilde(W)\n",
    "\n",
    "#The bottom few eigenvectors of L except the lowest one.\n",
    "[w, V] = np.linalg.eigh(L)\n",
    "BottomEigen=V[:,range(1,4)] #eigh module make e.vectors from low to high"
   ]
  },
  {
   "cell_type": "code",
   "execution_count": 114,
   "metadata": {
    "collapsed": true
   },
   "outputs": [],
   "source": [
    "#Read off the rows as the embedding of the digits.\n",
    "#Then we can consider that there are 10000 new Y's with 3 variate.\n",
    "\n",
    "model=KMeans(n_clusters=10,init=\"random\",n_init=1,max_iter=100,random_state=1)\n",
    "hand_cluster=model.fit(BottomEigen)\n",
    "hand_label=hand_cluster.labels_"
   ]
  },
  {
   "cell_type": "code",
   "execution_count": 115,
   "metadata": {
    "collapsed": true
   },
   "outputs": [],
   "source": [
    "#Example with popular module\n",
    "from sklearn.cluster import SpectralClustering\n",
    "\n",
    "sc = SpectralClustering(10, affinity='precomputed',n_init=100)\n",
    "SC_Result=sc.fit(AM)\n",
    "hand_label=SC_Result.labels_"
   ]
  },
  {
   "cell_type": "code",
   "execution_count": 116,
   "metadata": {
    "collapsed": true
   },
   "outputs": [],
   "source": [
    "indexList=[]                   #Index of cluster label, from 0 to 9\n",
    "for i in range(0,10):\n",
    "    kk=FindIndex(hand_label,i)\n",
    "    indexList.append(kk)\n",
    "\n",
    "MajorLabel=[]\n",
    "for i in indexList:\n",
    "    temp=[]\n",
    "    for j in i:\n",
    "        temp.append(SmallTrainLabel[j])   #Real Lable of element in each cluster\n",
    "    MajorLabel.append(max(temp,key=temp.count))"
   ]
  },
  {
   "cell_type": "code",
   "execution_count": 117,
   "metadata": {},
   "outputs": [],
   "source": [
    "m=8                              #The number of image in a cluster I want to show\n",
    "RandomSampleIndex=[]\n",
    "for i in indexList:\n",
    "    kk=random.sample(i,m)        #Among i elements in cluster, m index will be selected\n",
    "    RandomSampleIndex.append(kk)"
   ]
  },
  {
   "cell_type": "code",
   "execution_count": 118,
   "metadata": {},
   "outputs": [
    {
     "data": {
      "image/png": "[encoded data removed]",
      "text/plain": [
       "<matplotlib.figure.Figure at 0x1096fb2b0>"
      ]
     },
     "metadata": {},
     "output_type": "display_data"
    },
    {
     "data": {
      "image/png": "[encoded data removed]",
      "text/plain": [
       "<matplotlib.figure.Figure at 0x1075d77f0>"
      ]
     },
     "metadata": {},
     "output_type": "display_data"
    },
    {
     "data": {
      "image/png": "[encoded data removed]",
      "text/plain": [
       "<matplotlib.figure.Figure at 0x109836390>"
      ]
     },
     "metadata": {},
     "output_type": "display_data"
    },
    {
     "data": {
      "image/png": "[encoded data removed]",
      "text/plain": [
       "<matplotlib.figure.Figure at 0x1093f8908>"
      ]
     },
     "metadata": {},
     "output_type": "display_data"
    },
    {
     "data": {
      "image/png": "[encoded data removed]",
      "text/plain": [
       "<matplotlib.figure.Figure at 0x143409828>"
      ]
     },
     "metadata": {},
     "output_type": "display_data"
    },
    {
     "data": {
      "image/png": "[encoded data removed]",
      "text/plain": [
       "<matplotlib.figure.Figure at 0x1076cccc0>"
      ]
     },
     "metadata": {},
     "output_type": "display_data"
    },
    {
     "data": {
      "image/png": "[encoded data removed]",
      "text/plain": [
       "<matplotlib.figure.Figure at 0x1094de978>"
      ]
     },
     "metadata": {},
     "output_type": "display_data"
    },
    {
     "data": {
      "image/png": "[encoded data removed]",
      "text/plain": [
       "<matplotlib.figure.Figure at 0x1434918d0>"
      ]
     },
     "metadata": {},
     "output_type": "display_data"
    },
    {
     "data": {
      "image/png": "[encoded data removed]",
      "text/plain": [
       "<matplotlib.figure.Figure at 0x1096b0630>"
      ]
     },
     "metadata": {},
     "output_type": "display_data"
    },
    {
     "data": {
      "image/png": "[encoded data removed]",
      "text/plain": [
       "<matplotlib.figure.Figure at 0x109735668>"
      ]
     },
     "metadata": {},
     "output_type": "display_data"
    }
   ],
   "source": [
    "# Plot m sample images for each of the 10 clusters\n",
    "for i in range(10):\n",
    "    fig = plt.figure(figsize=(m*2,2))\n",
    "    fig.suptitle('Image of Cluster with Major Label %d'%(MajorLabel[i]))\n",
    "    for j in range(m):\n",
    "        plt.subplot(1,m,j+1)\n",
    "        temp=np.array(SmallTrain[RandomSampleIndex[i][j]])\n",
    "        plt.imshow(temp.reshape((28,28)), cmap='gray')\n",
    "        plt.axis('off') \n",
    "    plt.show() "
   ]
  },
  {
   "cell_type": "markdown",
   "metadata": {},
   "source": [
    "By comparing the result of spectral clustering with the result of standard K-means, I found that the spectral clustering does not work well. Since my labtop does not good enough to handle all of the data, I only use a partial of data so it does not fit well. If I can use all dataset, it can be improved.\n",
    "\n",
    "In addition, the value of bandwidth largely affect to the clustering. I try several values of bandwidth. When the value is small, the cluster performance is really bad. If I can use an optimal bandwitdh value, the result will be better.\n",
    "\n",
    "From the below test, I set tha value of bandwidth should be 30 for given small training set."
   ]
  },
  {
   "cell_type": "code",
   "execution_count": 69,
   "metadata": {
    "collapsed": true
   },
   "outputs": [],
   "source": [
    "def SpectralErrorRate(Bandwidth,SmallTrain):\n",
    "    h=Bandwidth\n",
    "    sn=len(SmallTrain)\n",
    "    AM=np.zeros(shape = (sn,sn))\n",
    "    \n",
    "    for i in range(0,sn):\n",
    "        for j in range(i,sn):\n",
    "            x1=SmallTrain[i]\n",
    "            x2=SmallTrain[j]\n",
    "\n",
    "            AM[i,j]=np.exp(-distance.euclidean(x1,x2)**2/h)\n",
    "            AM[j,i] = AM[i,j]\n",
    "\n",
    "    D_square=np.zeros(shape = (sn,sn))  #D^(1/2)\n",
    "    for i in range(0,sn):\n",
    "        D_square[i,i]=np.sqrt(sum(AM[i]))\n",
    "    D_squareInv=inv(D_square)  #D^(1/2)^(-1)\n",
    "\n",
    "    tW=np.dot(np.dot(D_square,AM),D_square)  #tilde(W) = D^(-1/2)WD^(1/2)\n",
    "    L=np.eye(sn)-tW  #I-tilde(W)\n",
    "\n",
    "    #The bottom few eigenvectors of L except the lowest one.\n",
    "    [w, V] = np.linalg.eigh(L)\n",
    "    BottomEigen=V[:,range(1,4)] #eigh module make e.vectors from low to high\n",
    "    \n",
    "    model=KMeans(n_clusters=10,init=\"random\",n_init=1,max_iter=100,random_state=1)\n",
    "    hand_cluster=model.fit(BottomEigen)\n",
    "    hand_label=hand_cluster.labels_\n",
    "\n",
    "    indexList=[]                   #Index of cluster label, from 0 to 9\n",
    "    for i in range(0,10):\n",
    "        kk=FindIndex(hand_label,i)\n",
    "        indexList.append(kk)\n",
    "\n",
    "    MajorLabel=[]\n",
    "    for i in indexList:\n",
    "        temp=[]\n",
    "        for j in i:\n",
    "            temp.append(SmallTrainLabel[j])   #Real Lable of element in each cluster\n",
    "        MajorLabel.append(max(temp,key=temp.count))\n",
    "        \n",
    "    #Error rate in each cluster\n",
    "    ErrorInCluster=[]\n",
    "    NumberOfElement=[]\n",
    "    for i in range(0,len(indexList)):\n",
    "        cnt=0\n",
    "        NumberOfElement.append(len(indexList[i]))\n",
    "        for j in indexList[i]:\n",
    "            if SmallTrainLabel[j] != MajorLabel[i]:  #If data label != Major label, error ++\n",
    "                cnt+=1\n",
    "        ErrorInCluster.append(round(cnt/len(indexList[i]),4))\n",
    "    return(ErrorInCluster,NumberOfElement)"
   ]
  },
  {
   "cell_type": "code",
   "execution_count": 89,
   "metadata": {},
   "outputs": [
    {
     "name": "stdout",
     "output_type": "stream",
     "text": [
      "Bandwidth   :  10\n",
      "Error Rate  :  [0.0, 0.0, 0.0, 0.0, 0.0, 0.0, 0.0, 0.0, 0.0, 0.8584]\n",
      "# of element:  [16, 3, 10, 14, 11, 7, 16, 11, 8, 904]\n",
      "Total Error :  0.8584\n",
      "Std(element):  268.0276 \n",
      "\n",
      "\n",
      "Bandwidth   :  14\n",
      "Error Rate  :  [0.0, 0.8625, 0.0, 0.0, 0.0, 0.7391, 0.7021, 0.0, 0.0, 0.0]\n",
      "# of element:  [15, 829, 8, 30, 14, 23, 47, 18, 11, 5]\n",
      "Total Error :  2.3037\n",
      "Std(element):  243.2764 \n",
      "\n",
      "\n",
      "Bandwidth   :  18\n",
      "Error Rate  :  [0.0, 0.8217, 0.8326, 0.56, 0.0, 0.8151, 0.0, 0.6901, 0.0, 0.0]\n",
      "# of element:  [7, 471, 221, 25, 14, 119, 21, 71, 21, 30]\n",
      "Total Error :  3.7195\n",
      "Std(element):  138.7573 \n",
      "\n",
      "\n",
      "Bandwidth   :  22\n",
      "Error Rate  :  [0.7548, 0.8182, 0.73, 0.6226, 0.0, 0.7767, 0.7368, 0.7083, 0.0, 0.0]\n",
      "# of element:  [314, 242, 100, 53, 34, 103, 19, 72, 29, 34]\n",
      "Total Error :  5.1474\n",
      "Std(element):  94.486 \n",
      "\n",
      "\n",
      "Bandwidth   :  26\n",
      "Error Rate  :  [0.7743, 0.8088, 0.5902, 0.5636, 0.0, 0.66, 0.5, 0.6481, 0.0, 0.0]\n",
      "# of element:  [350, 251, 61, 55, 37, 100, 28, 54, 29, 35]\n",
      "Total Error :  4.545\n",
      "Std(element):  104.5858 \n",
      "\n",
      "\n",
      "Bandwidth   :  30\n",
      "Error Rate  :  [0.7831, 0.5667, 0.7979, 0.58, 0.0, 0.6027, 0.0, 0.5962, 0.0, 0.0]\n",
      "# of element:  [378, 150, 193, 50, 26, 73, 26, 52, 24, 28]\n",
      "Total Error :  3.9266\n",
      "Std(element):  107.6466 \n",
      "\n",
      "\n",
      "Bandwidth   :  34\n",
      "Error Rate  :  [0.7948, 0.7277, 0.5472, 0.58, 0.0, 0.6176, 0.4, 0.7536, 0.0, 0.0]\n",
      "# of element:  [307, 191, 53, 50, 34, 68, 90, 138, 31, 38]\n",
      "Total Error :  4.4209\n",
      "Std(element):  84.4796 \n",
      "\n",
      "\n",
      "Bandwidth   :  38\n",
      "Error Rate  :  [0.6622, 0.749, 0.5806, 0.587, 0.0, 0.6167, 0.3373, 0.7673, 0.0392, 0.7041]\n",
      "# of element:  [74, 243, 62, 46, 53, 60, 83, 159, 51, 169]\n",
      "Total Error :  5.0434\n",
      "Std(element):  63.424 \n",
      "\n",
      "\n",
      "Bandwidth   :  42\n",
      "Error Rate  :  [0.6548, 0.7303, 0.7582, 0.575, 0.0, 0.5965, 0.3626, 0.6203, 0.0392, 0.7337]\n",
      "# of element:  [84, 178, 182, 40, 54, 57, 91, 79, 51, 184]\n",
      "Total Error :  5.0706\n",
      "Std(element):  55.3245 \n",
      "\n",
      "\n",
      "Bandwidth   :  46\n",
      "Error Rate  :  [0.6915, 0.7566, 0.5882, 0.5957, 0.0, 0.5833, 0.3846, 0.6047, 0.04, 0.7582]\n",
      "# of element:  [94, 267, 51, 47, 54, 48, 78, 129, 50, 182]\n",
      "Total Error :  5.0028\n",
      "Std(element):  69.6448 \n",
      "\n",
      "\n",
      "Bandwidth   :  50\n",
      "Error Rate  :  [0.7115, 0.7056, 0.04, 0.5652, 0.0, 0.625, 0.5472, 0.6263, 0.6739, 0.437]\n",
      "# of element:  [104, 197, 50, 46, 54, 48, 53, 99, 230, 119]\n",
      "Total Error :  4.9317\n",
      "Std(element):  62.5556 \n",
      "\n",
      "\n",
      "Bandwidth   :  54\n",
      "Error Rate  :  [0.7216, 0.7789, 0.0392, 0.597, 0.0, 0.6768, 0.3469, 0.6364, 0.6582, 0.4314]\n",
      "# of element:  [176, 95, 51, 67, 55, 99, 49, 110, 196, 102]\n",
      "Total Error :  4.8864\n",
      "Std(element):  48.2058 \n",
      "\n",
      "\n",
      "Bandwidth   :  58\n",
      "Error Rate  :  [0.6621, 0.6667, 0.04, 0.622, 0.0179, 0.6881, 0.2807, 0.5798, 0.663, 0.6591]\n",
      "# of element:  [145, 69, 50, 82, 56, 109, 57, 119, 181, 132]\n",
      "Total Error :  4.8794\n",
      "Std(element):  41.9786 \n",
      "\n",
      "\n",
      "Bandwidth   :  62\n",
      "Error Rate  :  [0.6953, 0.7133, 0.175, 0.6292, 0.0, 0.0857, 0.4118, 0.617, 0.654, 0.4369]\n",
      "# of element:  [128, 143, 40, 89, 42, 35, 68, 141, 211, 103]\n",
      "Total Error :  4.4182\n",
      "Std(element):  53.8312 \n",
      "\n",
      "\n",
      "Bandwidth   :  66\n",
      "Error Rate  :  [0.7118, 0.6224, 0.2727, 0.6582, 0.0444, 0.3137, 0.3117, 0.6344, 0.6849, 0.736]\n",
      "# of element:  [170, 98, 44, 79, 45, 51, 77, 93, 146, 197]\n",
      "Total Error :  4.9902\n",
      "Std(element):  51.0 \n",
      "\n",
      "\n",
      "Bandwidth   :  70\n",
      "Error Rate  :  [0.7467, 0.6042, 0.4038, 0.6338, 0.1042, 0.3077, 0.4336, 0.6392, 0.6712, 0.7086]\n",
      "# of element:  [150, 96, 52, 71, 48, 52, 113, 97, 146, 175]\n",
      "Total Error :  5.253\n",
      "Std(element):  43.1138 \n",
      "\n",
      "\n",
      "Bandwidth   :  74\n",
      "Error Rate  :  [0.8, 0.6222, 0.0455, 0.5882, 0.0656, 0.7342, 0.4118, 0.6349, 0.6767, 0.6883]\n",
      "# of element:  [65, 135, 44, 85, 61, 158, 102, 63, 133, 154]\n",
      "Total Error :  5.2674\n",
      "Std(element):  40.0924 \n",
      "\n",
      "\n",
      "Bandwidth   :  78\n",
      "Error Rate  :  [0.8116, 0.6241, 0.0455, 0.5862, 0.0656, 0.7423, 0.4118, 0.6452, 0.6846, 0.7047]\n",
      "# of element:  [69, 133, 44, 87, 61, 163, 102, 62, 130, 149]\n",
      "Total Error :  5.3216\n",
      "Std(element):  39.4892 \n",
      "\n",
      "\n",
      "Bandwidth   :  82\n",
      "Error Rate  :  [0.6606, 0.6047, 0.1636, 0.6105, 0.194, 0.7547, 0.3678, 0.6452, 0.6364, 0.7559]\n",
      "# of element:  [109, 129, 55, 95, 67, 159, 87, 62, 110, 127]\n",
      "Total Error :  5.3934\n",
      "Std(element):  31.5975 \n",
      "\n",
      "\n",
      "Bandwidth   :  86\n",
      "Error Rate  :  [0.5733, 0.622, 0.8125, 0.5783, 0.0617, 0.7529, 0.3617, 0.5915, 0.6455, 0.736]\n",
      "# of element:  [75, 127, 64, 83, 81, 170, 94, 71, 110, 125]\n",
      "Total Error :  5.7354\n",
      "Std(element):  31.3081 \n",
      "\n",
      "\n",
      "Bandwidth   :  90\n",
      "Error Rate  :  [0.6437, 0.6336, 0.4091, 0.6237, 0.125, 0.7544, 0.3696, 0.6182, 0.6667, 0.708]\n",
      "# of element:  [87, 131, 66, 93, 72, 171, 92, 55, 96, 137]\n",
      "Total Error :  5.552\n",
      "Std(element):  34.1086 \n",
      "\n",
      "\n",
      "Bandwidth   :  94\n",
      "Error Rate  :  [0.6972, 0.6364, 0.1268, 0.6, 0.5, 0.75, 0.3333, 0.6452, 0.7172, 0.7083]\n",
      "# of element:  [109, 132, 71, 95, 80, 108, 78, 62, 145, 120]\n",
      "Total Error :  5.7144\n",
      "Std(element):  26.0538 \n",
      "\n",
      "\n",
      "Bandwidth   :  98\n",
      "Error Rate  :  [0.7027, 0.6147, 0.125, 0.5682, 0.5185, 0.7769, 0.3165, 0.6452, 0.7034, 0.7273]\n",
      "# of element:  [111, 109, 72, 88, 81, 121, 79, 62, 145, 132]\n",
      "Total Error :  5.6984\n",
      "Std(element):  26.2031 \n",
      "\n",
      "\n"
     ]
    }
   ],
   "source": [
    "for i in range(10,101,4):\n",
    "    EIC, NOE = SpectralErrorRate(i,SmallTrain)\n",
    "    print(\"Bandwidth   : \",i)\n",
    "    print(\"Error Rate  : \",EIC)\n",
    "    print(\"# of element: \",NOE)\n",
    "    print(\"Total Error : \",round(sum(EIC),4))\n",
    "    print(\"Std(element): \",round(np.std(NOE),4),'\\n\\n')"
   ]
  },
  {
   "cell_type": "markdown",
   "metadata": {},
   "source": [
    "To evaluate spectral clustering, we need to check two issues.\n",
    "\n",
    "1) The number of elements in each cluster are fairly even.\n",
    "\n",
    "2) The error rates in each cluster are small.\n",
    "\n",
    "As we know, spectral clustering algorithm is really sensitive to the value of bandwidth.\n",
    "\n",
    "From the result, we can find that as the value of bandwidth increase, the number of element in each cluster are evenly distributed.\n",
    "\n",
    "However, the total error rate usually increases as the value of bandwidth increases.\n",
    "\n",
    "It may be caused by the small size of the training set. Since the running of this algorithm takes too long time, we only use 1000 dataset among 70000 dataset. If we can use more data, then the result will be better.\n",
    "\n",
    "Otherwise, it is possible that given dataset does not fit to spectral clustering algorithm. As we discussed in past lectures, spectral clustering algorithm is useful when the data form unbalanced clusters.\n",
    "\n",
    "Beside the two reasons, we can also think about unknown value of bandwidth."
   ]
  }
 ],
 "metadata": {
  "kernelspec": {
   "display_name": "Python 3",
   "language": "python",
   "name": "python3"
  },
  "language_info": {
   "codemirror_mode": {
    "name": "ipython",
    "version": 3
   },
   "file_extension": ".py",
   "mimetype": "text/x-python",
   "name": "python",
   "nbconvert_exporter": "python",
   "pygments_lexer": "ipython3",
   "version": "3.6.4"
  }
 },
 "nbformat": 4,
 "nbformat_minor": 2
}
