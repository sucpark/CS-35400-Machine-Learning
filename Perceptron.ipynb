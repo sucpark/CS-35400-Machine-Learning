{
 "cells": [
  {
   "cell_type": "markdown",
   "metadata": {
    "collapsed": true
   },
   "source": [
    "## Data Load"
   ]
  },
  {
   "cell_type": "code",
   "execution_count": 2,
   "metadata": {
    "collapsed": true
   },
   "outputs": [],
   "source": [
    "import numpy as np\n",
    "import matplotlib.pyplot as plt\n",
    "from sklearn.preprocessing import normalize\n",
    "%matplotlib inline"
   ]
  },
  {
   "cell_type": "code",
   "execution_count": 3,
   "metadata": {
    "collapsed": true
   },
   "outputs": [],
   "source": [
    "# Read in data \n",
    "\n",
    "Train = np.loadtxt(\"train35.digits\")\n",
    "TrainLabel = np.loadtxt(\"train35.labels\")\n",
    "Test = np.loadtxt(\"test35.digits\")"
   ]
  },
  {
   "cell_type": "code",
   "execution_count": 4,
   "metadata": {},
   "outputs": [
    {
     "data": {
      "text/plain": [
       "(2000, 784)"
      ]
     },
     "execution_count": 4,
     "metadata": {},
     "output_type": "execute_result"
    }
   ],
   "source": [
    "#Check the structure\n",
    "\n",
    "Train.shape"
   ]
  },
  {
   "cell_type": "markdown",
   "metadata": {},
   "source": [
    "## Perceptron"
   ]
  },
  {
   "cell_type": "code",
   "execution_count": 5,
   "metadata": {
    "collapsed": true
   },
   "outputs": [],
   "source": [
    "#Return weights and mistake\n",
    "\n",
    "def Perceptron_Weight(train, label, runs):\n",
    "    train = normalize(train)\n",
    "    d = len(train[1,:]) #feature\n",
    "    n = len(train[:,1]) #observation\n",
    "    w=np.zeros(d)       #Initial weights\n",
    "    mistake = []\n",
    "    #We will use batch algorithm \n",
    "    # -\n",
    "    for r in range(0,runs):    \n",
    "        y = []\n",
    "        for i in range(0,n):\n",
    "            h = np.inner(w,train[i,:])\n",
    "            if h >=0:\n",
    "                y.append(1)\n",
    "            else:\n",
    "                y.append(-1)\n",
    "\n",
    "            if y[i]==-1 and label[i]==1:\n",
    "                w += train[i,:]\n",
    "                mistake.append(1)\n",
    "            elif y[i]==1 and label[i]==-1:\n",
    "                w -= train[i,:]\n",
    "                mistake.append(1)\n",
    "            else:\n",
    "                mistake.append(0)\n",
    "    return w, mistake"
   ]
  },
  {
   "cell_type": "markdown",
   "metadata": {},
   "source": [
    "We want to use batch algorithm instead of an online algorithm presented in past lectures.\n",
    "\n",
    "Batch algorithm keeps the weights constant while computing the error associated with each sample in the input.\n",
    "\n",
    "To use the perceptron as a batch algorithm, train it by simply feeding it training set M times.\n",
    "\n",
    "The value of M should be set by cross validation."
   ]
  },
  {
   "cell_type": "code",
   "execution_count": 6,
   "metadata": {
    "collapsed": true
   },
   "outputs": [],
   "source": [
    "def Perceptron_Perdiction(w, data):\n",
    "    data = normalize(data)\n",
    "    predicted = np.inner(w,data)\n",
    "    Result=[]\n",
    "    for i in predicted:\n",
    "        if i>=0:             #1 if vx>=0\n",
    "            Result.append(1)  \n",
    "        else:\n",
    "            Result.append(-1) #-1 if vx<0\n",
    "    return Result"
   ]
  },
  {
   "cell_type": "code",
   "execution_count": 7,
   "metadata": {
    "collapsed": true
   },
   "outputs": [],
   "source": [
    "# Find error rate with the prediction and true label\n",
    "\n",
    "def Error_rate(pred, label):\n",
    "    temp = (pred != label)\n",
    "    result=sum(temp)/len(pred)\n",
    "    return result"
   ]
  },
  {
   "cell_type": "markdown",
   "metadata": {},
   "source": [
    "## Cross validation "
   ]
  },
  {
   "cell_type": "code",
   "execution_count": 8,
   "metadata": {
    "collapsed": true
   },
   "outputs": [],
   "source": [
    "#Crossvalidation\n",
    "\n",
    "n = len(Train[:,1])\n",
    "TrainDivide=[]\n",
    "LabelDivide=[]\n",
    "\n",
    "randomIndex=np.random.choice(n,n)\n",
    "k=np.split(randomIndex,5) #devide into 5 quarters.\n",
    "for i in range(0,5):\n",
    "    TrainDivide.append(Train[k[i],:])\n",
    "    LabelDivide.append(TrainLabel[k[i]])"
   ]
  },
  {
   "cell_type": "markdown",
   "metadata": {},
   "source": [
    "For cross validation, We need to devide the training set randomly and evenly. Since there are 2000 training data, I will devide 5 sub training dataset."
   ]
  },
  {
   "cell_type": "code",
   "execution_count": 9,
   "metadata": {},
   "outputs": [
    {
     "data": {
      "image/png": "[encoded data removed]",
      "text/plain": [
       "<matplotlib.figure.Figure at 0x113bf72e8>"
      ]
     },
     "metadata": {},
     "output_type": "display_data"
    }
   ],
   "source": [
    "ErrorList = []\n",
    "maxM=10\n",
    "\n",
    "for i in range(0,maxM):   #The value of M can be expected to be less than 10.\n",
    "    e = 0\n",
    "    for j in range(0,5):\n",
    "        RangeList=list(range(0,5))\n",
    "        RangeList.pop(j)              #Except jth index to make new subtrain set.\n",
    "        TempTrain=TrainDivide[RangeList[0]]\n",
    "        TempLabel=LabelDivide[RangeList[0]]\n",
    "        for k in range(1,len(RangeList)):\n",
    "            TempTrain=np.concatenate((TempTrain,TrainDivide[RangeList[k]]))\n",
    "            TempLabel=np.concatenate((TempLabel,LabelDivide[RangeList[k]]))\n",
    "        \n",
    "        w, m = Perceptron_Weight(TempTrain,TempLabel,i+1)   \n",
    "        p = Perceptron_Perdiction(w, TrainDivide[j])\n",
    "        e += Error_rate(p, LabelDivide[j])\n",
    "    ErrorList.append(e/5)\n",
    "    \n",
    "plt.plot(range(1,len(ErrorList)+1),ErrorList)\n",
    "\n",
    "M=(np.argsort(ErrorList)[0]+1) #Value of M from corssvalidation"
   ]
  },
  {
   "cell_type": "markdown",
   "metadata": {},
   "source": [
    "Train without ith devided sample and test with ith sample for all i and get the average error rate.\n",
    "\n",
    "For all candidate value of M, try the above process and get the value of M which computes the minimum error rate."
   ]
  },
  {
   "cell_type": "code",
   "execution_count": 10,
   "metadata": {},
   "outputs": [
    {
     "name": "stdout",
     "output_type": "stream",
     "text": [
      "The result M from Cross validation is  5\n"
     ]
    }
   ],
   "source": [
    "print(\"The result M from Cross validation is \",M)"
   ]
  },
  {
   "cell_type": "markdown",
   "metadata": {},
   "source": [
    "## Result "
   ]
  },
  {
   "cell_type": "code",
   "execution_count": 11,
   "metadata": {
    "collapsed": true
   },
   "outputs": [],
   "source": [
    "weights, mistakes = Perceptron_Weight(Train, TrainLabel,M)\n",
    "TestPrediction = Perceptron_Perdiction(weights, Test)"
   ]
  },
  {
   "cell_type": "code",
   "execution_count": 12,
   "metadata": {},
   "outputs": [
    {
     "name": "stdout",
     "output_type": "stream",
     "text": [
      "[-1, -1, 1, -1, 1, 1, 1, -1, 1, -1, -1, -1, 1, 1, 1, -1, 1, 1, -1, 1, -1, -1, -1, -1, 1, -1, -1, -1, 1, -1, -1, 1, 1, -1, -1, 1, 1, 1, -1, -1, 1, 1, -1, -1, 1, 1, -1, -1, -1, -1, 1, -1, -1, 1, 1, -1, -1, -1, 1, -1, 1, 1, 1, 1, -1, 1, -1, -1, -1, -1, -1, 1, -1, 1, 1, -1, -1, 1, -1, 1, -1, -1, 1, 1, 1, 1, 1, 1, -1, 1, -1, -1, -1, -1, 1, 1, 1, 1, -1, -1, 1, -1, 1, 1, 1, 1, -1, 1, 1, -1, 1, 1, 1, 1, 1, -1, 1, 1, -1, 1, -1, 1, 1, -1, -1, 1, -1, 1, 1, -1, 1, 1, 1, 1, -1, -1, 1, -1, -1, -1, 1, 1, -1, 1, -1, 1, -1, -1, -1, 1, 1, -1, -1, 1, 1, -1, 1, 1, 1, 1, -1, 1, 1, 1, 1, 1, -1, -1, 1, -1, -1, 1, 1, 1, 1, -1, 1, 1, 1, 1, 1, -1, -1, 1, 1, 1, -1, 1, 1, -1, 1, -1, 1, 1, -1, 1, -1, 1, -1, -1]\n"
     ]
    }
   ],
   "source": [
    "print(TestPrediction)"
   ]
  },
  {
   "cell_type": "code",
   "execution_count": 13,
   "metadata": {
    "collapsed": true
   },
   "outputs": [],
   "source": [
    "#Export the result.\n",
    "np.savetxt(\"test35_predictions_SuchanPark\",TestPrediction,fmt='%10.5f')"
   ]
  },
  {
   "cell_type": "code",
   "execution_count": 14,
   "metadata": {
    "collapsed": true
   },
   "outputs": [],
   "source": [
    "#Print the plot of error\n",
    "\n",
    "ErrorFraction = []\n",
    "Cum_Error = 0\n",
    "ErrorCount = []\n",
    "for i in range(len(mistakes)):\n",
    "    Cum_Error += mistakes[i]\n",
    "    ErrorCount.append(Cum_Error)\n",
    "    ErrorFraction.append(Cum_Error/(i+1))\n",
    "\n",
    "#plt.plot(range(len(mistake)),frac)\n",
    "#plt.ylim([0,0.4])"
   ]
  },
  {
   "cell_type": "code",
   "execution_count": 15,
   "metadata": {},
   "outputs": [
    {
     "data": {
      "text/plain": [
       "[<matplotlib.lines.Line2D at 0x11424eda0>]"
      ]
     },
     "execution_count": 15,
     "metadata": {},
     "output_type": "execute_result"
    },
    {
     "data": {
      "image/png": "[encoded data removed]",
      "text/plain": [
       "<matplotlib.figure.Figure at 0x113bf71d0>"
      ]
     },
     "metadata": {},
     "output_type": "display_data"
    }
   ],
   "source": [
    "plt.plot(range(len(mistakes)),ErrorCount)"
   ]
  },
  {
   "cell_type": "code",
   "execution_count": 16,
   "metadata": {},
   "outputs": [
    {
     "data": {
      "text/plain": [
       "(6000, 10000)"
      ]
     },
     "execution_count": 16,
     "metadata": {},
     "output_type": "execute_result"
    },
    {
     "data": {
      "image/png": "[encoded data removed]",
      "text/plain": [
       "<matplotlib.figure.Figure at 0x113e94898>"
      ]
     },
     "metadata": {},
     "output_type": "display_data"
    }
   ],
   "source": [
    "plt.plot(range(len(mistakes)),ErrorCount)\n",
    "plt.xlim(2000*(M-2),2000*M)"
   ]
  },
  {
   "cell_type": "markdown",
   "metadata": {},
   "source": [
    "From the above plots, we can find that as the number examples increases, the frequency of mistakes decreases."
   ]
  },
  {
   "cell_type": "code",
   "execution_count": 17,
   "metadata": {},
   "outputs": [
    {
     "data": {
      "text/plain": [
       "[<matplotlib.lines.Line2D at 0x114666898>]"
      ]
     },
     "execution_count": 17,
     "metadata": {},
     "output_type": "execute_result"
    },
    {
     "data": {
      "image/png": "[encoded data removed]",
      "text/plain": [
       "<matplotlib.figure.Figure at 0x1143d6748>"
      ]
     },
     "metadata": {},
     "output_type": "display_data"
    }
   ],
   "source": [
    "plt.plot(range(0,len(mistakes)),ErrorFraction)"
   ]
  },
  {
   "cell_type": "markdown",
   "metadata": {},
   "source": [
    "From the above plot, we can find that total error rate significantly decreases."
   ]
  }
 ],
 "metadata": {
  "kernelspec": {
   "display_name": "Python 3",
   "language": "python",
   "name": "python3"
  },
  "language_info": {
   "codemirror_mode": {
    "name": "ipython",
    "version": 3
   },
   "file_extension": ".py",
   "mimetype": "text/x-python",
   "name": "python",
   "nbconvert_exporter": "python",
   "pygments_lexer": "ipython3",
   "version": "3.6.4"
  }
 },
 "nbformat": 4,
 "nbformat_minor": 2
}
